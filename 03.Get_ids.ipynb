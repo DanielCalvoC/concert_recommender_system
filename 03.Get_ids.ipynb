{
 "cells": [
  {
   "cell_type": "code",
   "execution_count": 1,
   "metadata": {},
   "outputs": [],
   "source": [
    "import config\n",
    "import spotipy\n",
    "import json\n",
    "import pandas as pd\n",
    "from spotipy.oauth2 import SpotifyClientCredentials\n",
    "import pandas as pd\n",
    "from sklearn.preprocessing import StandardScaler\n",
    "import requests  #don't know if its necessary\n",
    "from IPython.display import IFrame"
   ]
  },
  {
   "cell_type": "code",
   "execution_count": 2,
   "metadata": {},
   "outputs": [],
   "source": [
    "#Initialize SpotiPy with user credentials IMPORT FROM CONFIG.PY\n",
    "sp = spotipy.Spotify(auth_manager=SpotifyClientCredentials(client_id= config.client_id,\n",
    "                                                           client_secret= config.client_secret))"
   ]
  },
  {
   "cell_type": "code",
   "execution_count": 3,
   "metadata": {},
   "outputs": [],
   "source": [
    "AUTH_URL = 'https://accounts.spotify.com/api/token'  #In order to access the various endpoints of the Spotify API, we need to pass an access token."
   ]
  },
  {
   "cell_type": "code",
   "execution_count": 4,
   "metadata": {},
   "outputs": [],
   "source": [
    "# POST a request with our client credentials and save the appropriate part of the response\n",
    "auth_response = requests.post(AUTH_URL, {\n",
    "    'grant_type': 'client_credentials',\n",
    "    'client_id': config.client_id,\n",
    "    'client_secret': config.client_secret,\n",
    "})\n",
    "\n",
    "# convert the response to JSON\n",
    "auth_response_data = auth_response.json()\n",
    "\n",
    "# save the access token\n",
    "access_token = auth_response_data['access_token']"
   ]
  },
  {
   "cell_type": "code",
   "execution_count": 5,
   "metadata": {},
   "outputs": [
    {
     "data": {
      "text/plain": [
       "'BQD-OnLn_hcxVBpR6-j0p8rh-_cZ3ziJrvyH4nnFY2cJqFhmJhn5eHiRJ7M2RGaI1zEI9bhpWi51eur95Ok'"
      ]
     },
     "execution_count": 5,
     "metadata": {},
     "output_type": "execute_result"
    }
   ],
   "source": [
    "access_token "
   ]
  },
  {
   "cell_type": "code",
   "execution_count": 6,
   "metadata": {},
   "outputs": [],
   "source": [
    "headers = {\n",
    "    'Authorization': 'Bearer {token}'.format(token=access_token)\n",
    "}"
   ]
  },
  {
   "cell_type": "code",
   "execution_count": 7,
   "metadata": {},
   "outputs": [],
   "source": [
    "# base URL of all Spotify API endpoints\n",
    "BASE_URL = 'https://api.spotify.com/v1/'"
   ]
  },
  {
   "cell_type": "code",
   "execution_count": 8,
   "metadata": {},
   "outputs": [
    {
     "data": {
      "text/html": [
       "<div>\n",
       "<style scoped>\n",
       "    .dataframe tbody tr th:only-of-type {\n",
       "        vertical-align: middle;\n",
       "    }\n",
       "\n",
       "    .dataframe tbody tr th {\n",
       "        vertical-align: top;\n",
       "    }\n",
       "\n",
       "    .dataframe thead th {\n",
       "        text-align: right;\n",
       "    }\n",
       "</style>\n",
       "<table border=\"1\" class=\"dataframe\">\n",
       "  <thead>\n",
       "    <tr style=\"text-align: right;\">\n",
       "      <th></th>\n",
       "      <th>Artist</th>\n",
       "      <th>Hour</th>\n",
       "      <th>stage</th>\n",
       "      <th>date</th>\n",
       "    </tr>\n",
       "  </thead>\n",
       "  <tbody>\n",
       "    <tr>\n",
       "      <th>0</th>\n",
       "      <td>Amaarae</td>\n",
       "      <td>18:45 - 19:30</td>\n",
       "      <td>Cupra FKA Seat</td>\n",
       "      <td>02.06.22</td>\n",
       "    </tr>\n",
       "    <tr>\n",
       "      <th>1</th>\n",
       "      <td>Kacey Musgraves</td>\n",
       "      <td>20:35 - 21:35</td>\n",
       "      <td>Cupra FKA Seat</td>\n",
       "      <td>02.06.22</td>\n",
       "    </tr>\n",
       "    <tr>\n",
       "      <th>2</th>\n",
       "      <td>Tame Impala</td>\n",
       "      <td>23:15 - 00:45</td>\n",
       "      <td>Cupra FKA Seat</td>\n",
       "      <td>02.06.22</td>\n",
       "    </tr>\n",
       "    <tr>\n",
       "      <th>3</th>\n",
       "      <td>Bad Gyal</td>\n",
       "      <td>02:05 - 03:00</td>\n",
       "      <td>Cupra FKA Seat</td>\n",
       "      <td>02.06.22</td>\n",
       "    </tr>\n",
       "    <tr>\n",
       "      <th>4</th>\n",
       "      <td>Verde Prato</td>\n",
       "      <td>18:00 - 18:40</td>\n",
       "      <td>Pull &amp; Bear</td>\n",
       "      <td>02.06.22</td>\n",
       "    </tr>\n",
       "    <tr>\n",
       "      <th>...</th>\n",
       "      <td>...</td>\n",
       "      <td>...</td>\n",
       "      <td>...</td>\n",
       "      <td>...</td>\n",
       "    </tr>\n",
       "    <tr>\n",
       "      <th>313</th>\n",
       "      <td>Craig Richards</td>\n",
       "      <td>04:00 - 06:00</td>\n",
       "      <td>El Punto by adidas Originals (Primavera Bits)</td>\n",
       "      <td>11.06.22</td>\n",
       "    </tr>\n",
       "    <tr>\n",
       "      <th>314</th>\n",
       "      <td>Paranoid 1966</td>\n",
       "      <td>01:30 - 02:15</td>\n",
       "      <td>Lotus (Primavera Bits)</td>\n",
       "      <td>11.06.22</td>\n",
       "    </tr>\n",
       "    <tr>\n",
       "      <th>315</th>\n",
       "      <td>Courtesy</td>\n",
       "      <td>02:40 - 03:55</td>\n",
       "      <td>Lotus (Primavera Bits)</td>\n",
       "      <td>11.06.22</td>\n",
       "    </tr>\n",
       "    <tr>\n",
       "      <th>316</th>\n",
       "      <td>Acemoma</td>\n",
       "      <td>04:15 - 05:40</td>\n",
       "      <td>Lotus (Primavera Bits)</td>\n",
       "      <td>11.06.22</td>\n",
       "    </tr>\n",
       "    <tr>\n",
       "      <th>317</th>\n",
       "      <td>Goldie</td>\n",
       "      <td>16:30 - 18:00</td>\n",
       "      <td>Xiringuito Aperol (Primavera Bits)</td>\n",
       "      <td>11.06.22</td>\n",
       "    </tr>\n",
       "  </tbody>\n",
       "</table>\n",
       "<p>318 rows × 4 columns</p>\n",
       "</div>"
      ],
      "text/plain": [
       "              Artist           Hour  \\\n",
       "0            Amaarae  18:45 - 19:30   \n",
       "1    Kacey Musgraves  20:35 - 21:35   \n",
       "2        Tame Impala  23:15 - 00:45   \n",
       "3           Bad Gyal  02:05 - 03:00   \n",
       "4        Verde Prato  18:00 - 18:40   \n",
       "..               ...            ...   \n",
       "313   Craig Richards  04:00 - 06:00   \n",
       "314    Paranoid 1966  01:30 - 02:15   \n",
       "315        Courtesy   02:40 - 03:55   \n",
       "316         Acemoma   04:15 - 05:40   \n",
       "317           Goldie  16:30 - 18:00   \n",
       "\n",
       "                                             stage      date  \n",
       "0                                   Cupra FKA Seat  02.06.22  \n",
       "1                                   Cupra FKA Seat  02.06.22  \n",
       "2                                   Cupra FKA Seat  02.06.22  \n",
       "3                                   Cupra FKA Seat  02.06.22  \n",
       "4                                      Pull & Bear  02.06.22  \n",
       "..                                             ...       ...  \n",
       "313  El Punto by adidas Originals (Primavera Bits)  11.06.22  \n",
       "314                         Lotus (Primavera Bits)  11.06.22  \n",
       "315                         Lotus (Primavera Bits)  11.06.22  \n",
       "316                         Lotus (Primavera Bits)  11.06.22  \n",
       "317             Xiringuito Aperol (Primavera Bits)  11.06.22  \n",
       "\n",
       "[318 rows x 4 columns]"
      ]
     },
     "execution_count": 8,
     "metadata": {},
     "output_type": "execute_result"
    }
   ],
   "source": [
    "line_up_clean = pd.read_csv ('line_up_clean.csv')\n",
    "line_up_clean"
   ]
  },
  {
   "cell_type": "code",
   "execution_count": 9,
   "metadata": {},
   "outputs": [],
   "source": [
    "artist_list = line_up_clean['Artist'].tolist()"
   ]
  },
  {
   "cell_type": "markdown",
   "metadata": {},
   "source": [
    "## FUNCTION TO GET IDS FROM EVERY ARTIST"
   ]
  },
  {
   "cell_type": "code",
   "execution_count": 10,
   "metadata": {},
   "outputs": [],
   "source": [
    "def list_names_to_list_ids(list_of_names):\n",
    "    ids_list=[]\n",
    "    for i in list_of_names:\n",
    "        results = sp.search(i,type=\"artist\",limit=1,market=\"GB\")\n",
    "        artist_id = results['artists']['items'][0]['id']\n",
    "        ids_list.append(artist_id)\n",
    "    return ids_list"
   ]
  },
  {
   "cell_type": "markdown",
   "metadata": {},
   "source": [
    "<b> Problem: gives us the id of the first artist that meets the name requirement, what if there is more than one artist with the same name?"
   ]
  },
  {
   "cell_type": "markdown",
   "metadata": {},
   "source": [
    "## GET IDS MANUAL"
   ]
  },
  {
   "cell_type": "code",
   "execution_count": 11,
   "metadata": {
    "scrolled": true
   },
   "outputs": [
    {
     "name": "stdout",
     "output_type": "stream",
     "text": [
      "5X5UPn6eVnwfYcujIQpcfu\n"
     ]
    },
    {
     "data": {
      "text/html": [
       "\n",
       "        <iframe\n",
       "            width=\"320\"\n",
       "            height=\"80\"\n",
       "            src=\"https://open.spotify.com/embed/track/0yKmYsxSKvqiA0Av4w7IrV?frameborder=0&allowtransparency=true&allow=encrypted-media\"\n",
       "            frameborder=\"0\"\n",
       "            allowfullscreen\n",
       "        ></iframe>\n",
       "        "
      ],
      "text/plain": [
       "<IPython.lib.display.IFrame at 0x7f1fd02cf340>"
      ]
     },
     "execution_count": 11,
     "metadata": {},
     "output_type": "execute_result"
    }
   ],
   "source": [
    "results = sp.search(\"SOLEA MORENTE\", type=\"artist\",limit=1,market=\"GB\")\n",
    "artist_id = results['artists']['items'][0]['id']\n",
    "print(artist_id)\n",
    "song_recom = sp.artist_top_tracks(artist_id, country='US')  #top ten tracks recommended artist\n",
    "song_recom_id = song_recom['tracks'][0]['id']   #id   #best song id recommended artist\n",
    "IFrame(src=\"https://open.spotify.com/embed/track/\"+song_recom_id,\n",
    "       width=\"320\",\n",
    "       height=\"80\",\n",
    "       frameborder=\"0\",\n",
    "       allowtransparency=\"true\",\n",
    "       allow=\"encrypted-media\",\n",
    "      )"
   ]
  },
  {
   "cell_type": "code",
   "execution_count": 12,
   "metadata": {},
   "outputs": [],
   "source": [
    "x_0_9 = ['21UPYSRWFKwtqvSAnFnSvS','0cGUm45nv7Z6M6qdXYQGTX', '4F4pp8NUW08JuXwnoxglpN', '25uiPmTg16RbhZWAqwLBy5','04WGKyAt0klDPxUw2roFfi','70kkdajctXSbqSMJbQO424','3inCNiUr4R6XQ3W43s9Aqi','5INjqkS1o8h1imAzPqGZBb','5szilpXHcwOqnyKLqGco5j','13dTrWNNrnZ3AkgNyQNKP5']\n",
    "x_10_20 = ['2wJ4vsxWd7df7dRU4KcoDe','5rLsN2LxYaEPLa1N7I2mPB', '1MIVXf74SZHmTIp4V4paH4','4oLeXFyACqeem2VImYeBFe','5CE2IfdYZEQGIDsfiRm8SI','0LyfQWJT6nXafLPZqxe9Of','5hAhrnb0Ch4ODwWu4tsbpi','6PfSUFtkMVoDkx4MQkzOi3','267VY6GX5LyU5c9M85ECZQ','1QAJqy2dA3ihHBFIHRphZj']\n",
    "x_20_30 = ['7p7YeMEkvlFLwiNlm1Zt7C','6QqLYrbjh5CnfMG7z5r96E','3n8qeKQViV1waeCzZmS4Tx','3uwAm6vQy7kWPS2bciKWx9','2KEqzdPS7M5YwGmiuPTdr5','7Hvq85OU8T7Hsd63zNBwaL','5DZBnxCYzs32O2bbqK8KNg' ,'4skJp5OKvcc9eKokiuhi2s','0mk9dVJMJF4fanFzeZo6K1', '0HutkALC7kq2L8b9bnZUkq']\n",
    "x_30_40 = ['35C0NSLogAwImm8HAMqEmG','4V5obzWMr7BHZrjOiQwB4K', '6gyhsZUy2fzzWZBRVPmOw4', '0VeQgI9lzgoOMszAOq0iml','1d3CepUS2V6F3cP9YWNfUO','3Q2RrKEOBdkWI2MJQgdt84','41BaIYCli96MF2wqqOutBR','1IMX8AG0s31WtvCLk4QEWJ','4jRLhvF4a3NHs5TaR1lU3m', '3UBeV2UkTunts46Pok3zQu','5b4g39OmFtyQcwYLSHCvsC', '0zo109NM3S7CqHpvlXwqEN ']\n",
    "x_40_50 = ['1FVo44KTXqxo3JxXADWTd9','0XfQBWgzisaS9ltDV9bXAS','2LMaARRMktW5O2umBFaQUu','6CV2CoWJJQafHkNVOJjqFO','1cUt6hBRKlav4TIgjopnHC','6fFcUOFcbjeIuEomuUthkw','1juz0H48u94THg3gHf0rGE','3sXErEOw7EmO6Sj7EgjHdU', '2gyv1akuIB9fQvXoGSPaJr','3M3wTTCDwicRubwMyHyEDy']\n",
    "x_50_60 = ['BORRAR', '4Uhgu5miW68A3eqRl26xtf', '7HbRQEEsvAKurr1v8YjwzZ', '3HKbW1X4Aj2RZU6ruh3a0e', '1WLEfsQjvgtFSGkrHonzFX', '3vbKDsSS70ZX9D2OcvbZmS','0epOFNiUfyON9EYx7Tpr6V','4aEnNH9PuU1HF3TsZTru54','4ZG4S6skttdVhHz08AjMhR','23NIwARd4vPbxt3wwNnJ6k'  ]\n",
    "x_60_70 = ['2cCUtGK9sDU2EoElnk0GNB','6eXZu6O7nAUA5z6vLV8NKI','06knYh538h5SI7OAEF8ek3','2vnB6tuQMaQpORiRdvXF9H','BORRAR','2WOMBqEsllg2ICn7D2L8ta','6XYvaoDGE0VmRt83Jss9Sn','7rOlQwf8OuFLFQp4aydjBt','7A0awCXkE1FtSU8B0qwOJQ','40tHhop0T30DwienQBmTxb']\n",
    "x_70_80 = ['3Uqu1mEdkUJxPe7s31n1M9','3AmgGrYHXqgbmZ2yKoIVzO','0gvHPdYxlU94W7V5MSIlFe','0wz0jO9anccPzH04N7FLBH','1njdH9zjRnlM561mWqEocW','5RMGElrEO6UepEfrrn0Qg4','7HO5fOXE4gh3lzZn64tX2E','69qhRLDvsWJOhWGXXQ0lQQ','3SXwqSqAoBz9WCI9PDQzY6','3A5tHz1SfngyOZM2gItYKu','7zpN81tVvPwlHcJSkSCyRa']\n",
    "x_80_90 = ['44Wn7ZjTg4vIBEg22A6AMZ','4Mbv7MoBUcLBWCuGBCxRf1','7fWD0BSDlixbj6YNQyHTLh','2og3FOCLYXT9H7IYE6QPUq','0mL6LBSQ4bHe6hWq90KzHL', '2TwOrUcYnAlIiKmVQkkoSZ','4nXXIxTneJksvGXrlmX8oA','69YKwunlA0xl2yMS12cyMu','5id3QE9SvJCxWwHVa0zRcD','6WH1V41LwGDGmlPUhSZLHO']\n",
    "x_90_100 = ['3jisZjR3TBVb9tIfTbRHTS','7mKwhB3UiepqzM946jBOyi','4XbQUkFYWthjpAPp96lHWt','20fUkJZtm2I6zdIuj2XpgV', '04KmByEP6icXVY0PvJaMMp','6tzRZ39aZlNqlUzQlkuhDV','2eIDAcLKnWc4D350YyzvgS','4ha1AL8HqVr6WY9vSOow0n','05zSozHG9kAvZTCmEo1fFT','6JACkt5SfzTM7JmtvBEmIk']\n",
    "x_100_110 = ['4Ii6N7zTISiFbVsUPPD0sE','75BN2bMrpeLl89blBiaFuv','1HkrZCBvUvk1nvBpR3uki3','3BKX2WA8UjZgTIJ2juyQ7G','4I8qgsaz4mQa9ICeCPibIF','4AXLKUKQYoQHLw8Kb4WHd3','64kN9EkSTHYhda2FupL0KI','3qEnCAnX23lvoxZYtBiPgL', '1bAftSH8umNcGZ0uyV7LMg','1CoZyIx7UvdxT5c8UkMzHd']   \n",
    "x_110_120 = ['4V8LLVI7PbaPR0K2TGSxFF','7h0Xj4rDQMndEq2JsZZVzM', '0cTSCsVx04SSht9V6cpKN0','3AA28KZvwAUcZuOKwyblJQ', '4UXJsSlnKd7ltsrHebV79Q', '5eerVxtb9lY9p6D7m89Bs7', '4vAQ4M7vgItwBtmBTgRu48', '7KomCxZv6D5qCVvefwMnwB','5N5tQ9Dx1h8Od7aRmGj7Fi','56ZTgzPBDge0OvCGgMO3OY']\n",
    "x_120_130 = ['3r1XkJ7vCs8kHBSzGvPLdP','6nS5roXSAGhTGr34W6n7Et', '6dHMq5KZ8ScqdzsCKGagdo', '4UodukR17NIQfNu5uaqm9B','5V1qsQHdXNm4ZEZHWvFnqQ', '75mafsNqNE1WSEVxIKuY5C','4wyNyxs74Ux8UIDopNjIai', '3uX1tstdmFJyxW9b5mSNlU','1goerABWhGQPWKhMCZeJ68','4IeWU3NYBI9mISFVhzXG8f', '0Fj0cWPHOpexJCZRdSHioP'] \n",
    "x_130_140 = ['4OrizGCKhOrW6iDDJHN9xd', '4Ge8xMJNwt6EEXOzVXju9a', '2o7L9DNcmzocYll1o0GGTU', '42JGb29XOsilEvx2TVQH5H', '4vAuh0ifJRTcAxGeGNULIb', '71LogL8lYEei6YssB4RyVD', '6NL31G53xThQXkFs7lDpL5','3MNvKeLzGSvOPtXJAjCOzf','1epGwdbjU7JSGVBHlqptpx','3UqRgrDIQ208yNGiWKRMNt'] \n",
    "x_140_150 = ['2A0pTCoXdqG0VjhMWLArMr', '3PP6ghmOlDl2jaKaH0avUN','70GBRlKEGjfueop2lfdQ4Q',' 5n30EjOcjTVG11vtfNKbsd', '5As9k4aeJ897xlMRrFp8mE','11zGi8URbhNbTEtauBUnme', 'DAVE P BORRAR','7sdETEHtFrBJARdIVvf8Mv', 'BEN UFO BORRAR', '4LSAINMy65w69vnT4xUq1b']\n",
    "x_150_160 = ['4mtHSXwIHihO6MWNq5Qoko','0YmokPIhVketCTSXBRp20R','2YTyoyU90b3CF5x91YjVaQ','4iom7VVRU6AHRIu1JUXpLG','78x5Xzi7CUmQZtZfFYBK9m', 'NORISCAA BORRAR','4ha1AL8HqVr6WY9vSOow0n','5QdyldG4Fl4TPiOIeMNpBZ','4F4pp8NUW08JuXwnoxglpN', '25uiPmTg16RbhZWAqwLBy5']\n",
    "x_160_170 = ['4V8LLVI7PbaPR0K2TGSxFF', '7KjdFWj7ujhSLbzWYAAgVe', '3WaJSfKnzc65VDgmj2zU8B', '3AA28KZvwAUcZuOKwyblJQ', '6M2wZ9GZgrQXHCFfjv46we',  '0nnYdIpahs41QiZ9MWp5Wx', '48dgx7iGqLQ3E5KO3pzd94','54QMjE4toDfiCryzYWCpXX', '5rLsN2LxYaEPLa1N7I2mPB','6XYvaoDGE0VmRt83Jss9Sn'] \n",
    "x_170_180 = ['73A3bLnfnz5BoQjb4gNCga','6w3SkAHYPsQ1bxV7VDlG5y', '7xBGi7Eign0fX7jGQj5KlJ', '0WPY9nnBy01s5QOt4o4oQX', '72X6FHxaShda0XeQw3vbeF', '2mVVjNmdjXZZDvhgQWiakk','7DlD7rLG9MKuvXtTeACzkO','6kGMx9MqwnbKR2EYvZvvrG', '685XjGzGztyivfR3fAjoxo', '3NqV2DJoAWsjl787bWaHW7']\n",
    "x_180_190 = ['3PyJHH2wyfQK3WZrk9rpmP', '699OTQXzgjhIYAHMy9RyPD','0TkqXdyWLsssJH7okthMPQ','730AxBRvtXF3V72fwbqf1R', '44pUNjqg4mExLyFHnB3Bqf','7cCi9XoRu8Y1SyJ9c94fhc', '1eiIIImNeUj3vpaocWqoOf', '5RJFJWYgtgWktosLrUDzff', '335TWGWGFan4vaacJzSiU8', '5vnfKgHNYLnKeuFA6c2jJO']\n",
    "x_190_200 = ['40sPlPGgON8MBAiW4CIFTP', '11dABkjSoOjcP9p3TFSNRj', '1fIzM2bmsXG77E5EMPtdKW','1Ysz8yMgr4g1Ol3l1m3yOt','0zo109NM3S7CqHpvlXwqEN', '7wXTWO45lqpUejDkike0Gf', '6aDX1jzNVAI9enlQzW0Pgw', '6jlSEjqfJnED7otnU0lRoy', '1vlBj1Zv2y6dCNdGeIBsNo', '1YvN5uOGQkHVUUlZUcnotD'] \n",
    "x_200_210 = ['0NwRAG9DawUqqgur9925fA','0pkLgeB9j465x1QB2kRoy4','6HabM2PUM519iIxervGWSb','7yF6JnFPDzgml2Ytkyl5D7','0NwRAG9DawUqqgur9925fA','5RMLpCv3ic2KtGnqJ7eMG4','4z8y2MjTFwLa73dABYP1io','4fH73bVIwM24QrBqjTrhAA','3l0CmX0FuQjFxr8SK7Vqag','0QJIPDAEDILuo8AIq3pMuU' ] \n",
    "x_210_220 = ['0epOFNiUfyON9EYx7Tpr6V', '163tK9Wjr9P9DmM0AVK7lm', '1bTVf9uk7d4iU9rcWfWj5S', '2eam0iDomRHGBypaDQLwWI', '6styCzc1Ej4NxISL0LiigM', '4RnBFZRiMLRyZy0AzzTg2C', '1nIJEqPyIj5qutlgWNmQB0', '0NB5HROxc8dDBXpkIi1v3d', '78rUTD7y6Cy67W1RVzYs7t','4OOlG5eBXSkSAAEeKjJb5Y']\n",
    "x_220_230 = ['4XquDVA8pkg5Lx91No1JxB', '3wcj11K77LjEY1PkEazffa', '1PNvaesh1mkKZucGhBuqgD','07KQg01nfkJUG5zgSKuJYK','7MoIc5s9KXolCBH1fy9kkw','4fxd5Ee7UefO4CUXgwJ7IP', '4m6ubhNsdwF4psNf3R8kwR', '4rjlerN21ygkIhmUv55irs ', '1WZarnZpWEv7dDtjAETt4X','202HZzqKvPsMHcbwnDZx7u','18M7pJRsgFVjEBZ5ufmJAp']\n",
    "x_230_240 = ['3luonLzvSOxdU8ytCaEIK8', '7fw0E8WHdG3r9SuPBcGmWk', '290nCNEce1y6rfoJiO2rK7','053q0ukIDRgzwTr4vNSwab', '0tjJosKJDhjhGh2P8NtiK3', 'STEIN BORRAR','6LlGOJmoJ97bhGx3UX2URn', '6A6B4fkbxVlQtNASPk5e2e', '2SdK1QDmZIP2hk94rSaLl9', '6iZTyHbQWGzpiWoyI0zz9F']\n",
    "x_240_250 = ['6iWuBN32BqCJAeXW6o3nil',' 7qMC73hJTezS5KODuYn8ta','5MJEbh71qd0GTKQdKko3TT','3VBNIRx1LxVdRqOiPgkLwv', '7DOERbtkx9aTLvWzZSB0qx','2DqPerh6whhlts8Pb0BUJi','6hjRjVNLWTCPYci9nxhI1G','08Z0yhWGksNk3wceqlCeGE','4UUWo1AiaKMCi76yo69O1U', 'BORRAR MARY ANNE HOBBS','6wMr4zKPrrR0UVz08WtUWc']\n",
    "x_250_260 = ['5SRr4ZJMoygWecytkIwlaV', '2CYTLJOt91YLe1JLStFu6m', '23herDudxPBB3S81GB5uG3', '3L3ejltt5dmjXkES4YSGKX', 'BORRAR SPFDJ', '1U9VJ1tPataidARB8IBkAk','7ug2B8FOnKHqwtVlD9vrQX','5E3H2KyR31E2Dj3K6vIUe9','0F0QctWhGzgl1Ih560JzWJ', '52qyXsgOeHZZxHRRxyO8xm','0OltT51j3hIkgaDJqqPzDn']\n",
    "x_260_270 = ['3QVolfxko2UyCOtexhVTli','5Mq7iqCWBzofK39FBqblNc', '1CoZyIx7UvdxT5c8UkMzHd','181bsRPaVXVlUKXrxwZfHK','29eGrPvxOuFDGOyOUi3RLq','3TNt4aUIxgfy9aoaft5Jj2', '1xU878Z1QtBldR7ru9owdU','5INjqkS1o8h1imAzPqGZBb','49HlOY4gkHqsYG9GCuhkcc', '1nRVWZrJJCFAfkRWtFFPj4' ]   \n",
    "x_270_280 = ['BORRAR SHELLAC','0EFisYRi20PTADoJrifHrz', '2UZIAOlrnyZmyzt1nuXr9y', 'BORRAR DJ Coco','37YzpfBeFju8QRZ3g0Ha1Q','5X5UPn6eVnwfYcujIQpcfu','5lWasZeo8uWQk6GD8czJLq', '503mwh1GWEiWy9bzzpiTFW', '34UhPkLbtFKRq3nmfFgejG', '0GM7qgcRCORpGnfcN2tCiB','39ZEMGRv3pIYTYKEhr4Abu','1HvH97rzvCH6lfnLlgyfke', '2nAKP6etu8wXNnezKXgqgg']\n",
    "x_280_290 = ['37PL04N8kBWWW69jdrMMWT', '65mMkD9WW39U9Yadv0dWUF', '7pyhre5oEEFMqcgMEvJY7q', '4oLeXFyACqeem2VImYeBFe','5asecBdhCgsGfPIsAoNs1R','3rD7bBI9zkYhu62o79tWe6','4skJp5OKvcc9eKokiuhi2s','3XFQRe2FsSOjrODygK4caW','3C1CPJ9K2aeHuj1x22B0qJ','1nVq0hKIVReeaiB3xJgKf0'] \n",
    "x_290_300 = ['1jB62pOe5WpGiHOBDtKBBG', '7h8V7XHdJ3akShW3uFaZyn', '59lypjMPo7ZILhNMCgaE19','00JAfwtx5gNiiqyor88Dr5','61WgG5fz5ilJrMne7tE1zu', '4rdJkXHNrMgowlwUdQAg8T','2EFsfh1zewsSWhDINv7j1I','2TFDQkQ7LahhuwL9p7R6MO','3X2DdnmoANw8Rg8luHyZQb','1EULJuDFWpZ9xg4YwtUGGt']   \n",
    "x_300_309 = ['5igyz9vWH6ban6NMfKeCir', '2XtrsBob50yrdPKaWPJI9E', '6ydvoGN30eRfE78bjTANF7', '5T68nryXXOMNE2kVe61fKX', '6EVc5gJQXiUl586m1NFCNH', '6GP540ZTiOPTz8uI76k43u', '0osYTSrOpW6YESEC1lClwN','5igyz9vWH6ban6NMfKeCir','2SYqJ3uDLLXZNyZdLKBy4M']\n"
   ]
  },
  {
   "cell_type": "code",
   "execution_count": 13,
   "metadata": {},
   "outputs": [],
   "source": [
    "x_0_9.extend(x_10_20)"
   ]
  },
  {
   "cell_type": "code",
   "execution_count": 14,
   "metadata": {},
   "outputs": [
    {
     "data": {
      "text/plain": [
       "['21UPYSRWFKwtqvSAnFnSvS',\n",
       " '0cGUm45nv7Z6M6qdXYQGTX',\n",
       " '4F4pp8NUW08JuXwnoxglpN',\n",
       " '25uiPmTg16RbhZWAqwLBy5',\n",
       " '04WGKyAt0klDPxUw2roFfi',\n",
       " '70kkdajctXSbqSMJbQO424',\n",
       " '3inCNiUr4R6XQ3W43s9Aqi',\n",
       " '5INjqkS1o8h1imAzPqGZBb',\n",
       " '5szilpXHcwOqnyKLqGco5j',\n",
       " '13dTrWNNrnZ3AkgNyQNKP5',\n",
       " '2wJ4vsxWd7df7dRU4KcoDe',\n",
       " '5rLsN2LxYaEPLa1N7I2mPB',\n",
       " '1MIVXf74SZHmTIp4V4paH4',\n",
       " '4oLeXFyACqeem2VImYeBFe',\n",
       " '5CE2IfdYZEQGIDsfiRm8SI',\n",
       " '0LyfQWJT6nXafLPZqxe9Of',\n",
       " '5hAhrnb0Ch4ODwWu4tsbpi',\n",
       " '6PfSUFtkMVoDkx4MQkzOi3',\n",
       " '267VY6GX5LyU5c9M85ECZQ',\n",
       " '1QAJqy2dA3ihHBFIHRphZj']"
      ]
     },
     "execution_count": 14,
     "metadata": {},
     "output_type": "execute_result"
    }
   ],
   "source": [
    "x_0_9"
   ]
  },
  {
   "cell_type": "code",
   "execution_count": 15,
   "metadata": {},
   "outputs": [],
   "source": [
    "x_0_9.extend(x_20_30)"
   ]
  },
  {
   "cell_type": "code",
   "execution_count": 16,
   "metadata": {},
   "outputs": [],
   "source": [
    "x_0_9.extend(x_30_40)"
   ]
  },
  {
   "cell_type": "code",
   "execution_count": 17,
   "metadata": {},
   "outputs": [],
   "source": [
    "x_0_9.extend(x_40_50)"
   ]
  },
  {
   "cell_type": "code",
   "execution_count": 18,
   "metadata": {},
   "outputs": [],
   "source": [
    "x_0_9.extend(x_50_60)"
   ]
  },
  {
   "cell_type": "code",
   "execution_count": 19,
   "metadata": {},
   "outputs": [],
   "source": [
    "x_0_9.extend(x_60_70)"
   ]
  },
  {
   "cell_type": "code",
   "execution_count": 20,
   "metadata": {},
   "outputs": [],
   "source": [
    "x_0_9.extend(x_70_80)"
   ]
  },
  {
   "cell_type": "code",
   "execution_count": 21,
   "metadata": {},
   "outputs": [],
   "source": [
    "x_0_9.extend(x_80_90)"
   ]
  },
  {
   "cell_type": "code",
   "execution_count": 22,
   "metadata": {},
   "outputs": [],
   "source": [
    "x_0_9.extend(x_90_100)"
   ]
  },
  {
   "cell_type": "code",
   "execution_count": 23,
   "metadata": {},
   "outputs": [],
   "source": [
    "x_0_9.extend(x_100_110)"
   ]
  },
  {
   "cell_type": "code",
   "execution_count": 24,
   "metadata": {},
   "outputs": [],
   "source": [
    "x_0_9.extend(x_110_120)"
   ]
  },
  {
   "cell_type": "code",
   "execution_count": 25,
   "metadata": {},
   "outputs": [],
   "source": [
    "x_0_9.extend(x_120_130)"
   ]
  },
  {
   "cell_type": "code",
   "execution_count": 26,
   "metadata": {},
   "outputs": [],
   "source": [
    "x_0_9.extend(x_130_140)"
   ]
  },
  {
   "cell_type": "code",
   "execution_count": 27,
   "metadata": {},
   "outputs": [],
   "source": [
    "x_0_9.extend(x_140_150)"
   ]
  },
  {
   "cell_type": "code",
   "execution_count": 28,
   "metadata": {},
   "outputs": [],
   "source": [
    "x_0_9.extend(x_150_160)"
   ]
  },
  {
   "cell_type": "code",
   "execution_count": 29,
   "metadata": {},
   "outputs": [],
   "source": [
    "x_0_9.extend(x_160_170)"
   ]
  },
  {
   "cell_type": "code",
   "execution_count": 30,
   "metadata": {},
   "outputs": [],
   "source": [
    "x_0_9.extend(x_170_180)"
   ]
  },
  {
   "cell_type": "code",
   "execution_count": 31,
   "metadata": {},
   "outputs": [],
   "source": [
    "x_0_9.extend(x_180_190)"
   ]
  },
  {
   "cell_type": "code",
   "execution_count": 32,
   "metadata": {},
   "outputs": [],
   "source": [
    "x_0_9.extend(x_190_200)"
   ]
  },
  {
   "cell_type": "code",
   "execution_count": 33,
   "metadata": {},
   "outputs": [],
   "source": [
    "x_0_9.extend(x_200_210)"
   ]
  },
  {
   "cell_type": "code",
   "execution_count": 34,
   "metadata": {},
   "outputs": [],
   "source": [
    "x_0_9.extend(x_210_220)"
   ]
  },
  {
   "cell_type": "code",
   "execution_count": 35,
   "metadata": {},
   "outputs": [],
   "source": [
    "x_0_9.extend(x_220_230)"
   ]
  },
  {
   "cell_type": "code",
   "execution_count": 36,
   "metadata": {},
   "outputs": [],
   "source": [
    "x_0_9.extend(x_230_240)"
   ]
  },
  {
   "cell_type": "code",
   "execution_count": 37,
   "metadata": {},
   "outputs": [],
   "source": [
    "x_0_9.extend(x_240_250)"
   ]
  },
  {
   "cell_type": "code",
   "execution_count": 38,
   "metadata": {},
   "outputs": [],
   "source": [
    "x_0_9.extend(x_250_260)"
   ]
  },
  {
   "cell_type": "code",
   "execution_count": 39,
   "metadata": {},
   "outputs": [],
   "source": [
    "x_0_9.extend(x_260_270)"
   ]
  },
  {
   "cell_type": "code",
   "execution_count": 40,
   "metadata": {},
   "outputs": [],
   "source": [
    "x_0_9.extend(x_270_280)"
   ]
  },
  {
   "cell_type": "code",
   "execution_count": 41,
   "metadata": {},
   "outputs": [],
   "source": [
    "x_0_9.extend(x_280_290)"
   ]
  },
  {
   "cell_type": "code",
   "execution_count": 42,
   "metadata": {},
   "outputs": [],
   "source": [
    "x_0_9.extend(x_290_300)"
   ]
  },
  {
   "cell_type": "code",
   "execution_count": 43,
   "metadata": {},
   "outputs": [],
   "source": [
    "x_0_9.extend(x_300_309)"
   ]
  },
  {
   "cell_type": "code",
   "execution_count": 44,
   "metadata": {},
   "outputs": [
    {
     "data": {
      "text/plain": [
       "319"
      ]
     },
     "execution_count": 44,
     "metadata": {},
     "output_type": "execute_result"
    }
   ],
   "source": [
    "len(x_0_9)"
   ]
  },
  {
   "cell_type": "code",
   "execution_count": 45,
   "metadata": {},
   "outputs": [
    {
     "data": {
      "text/plain": [
       "['21UPYSRWFKwtqvSAnFnSvS',\n",
       " '0cGUm45nv7Z6M6qdXYQGTX',\n",
       " '4F4pp8NUW08JuXwnoxglpN',\n",
       " '25uiPmTg16RbhZWAqwLBy5',\n",
       " '04WGKyAt0klDPxUw2roFfi',\n",
       " '70kkdajctXSbqSMJbQO424',\n",
       " '3inCNiUr4R6XQ3W43s9Aqi',\n",
       " '5INjqkS1o8h1imAzPqGZBb',\n",
       " '5szilpXHcwOqnyKLqGco5j',\n",
       " '13dTrWNNrnZ3AkgNyQNKP5',\n",
       " '2wJ4vsxWd7df7dRU4KcoDe',\n",
       " '5rLsN2LxYaEPLa1N7I2mPB',\n",
       " '1MIVXf74SZHmTIp4V4paH4',\n",
       " '4oLeXFyACqeem2VImYeBFe',\n",
       " '5CE2IfdYZEQGIDsfiRm8SI',\n",
       " '0LyfQWJT6nXafLPZqxe9Of',\n",
       " '5hAhrnb0Ch4ODwWu4tsbpi',\n",
       " '6PfSUFtkMVoDkx4MQkzOi3',\n",
       " '267VY6GX5LyU5c9M85ECZQ',\n",
       " '1QAJqy2dA3ihHBFIHRphZj',\n",
       " '7p7YeMEkvlFLwiNlm1Zt7C',\n",
       " '6QqLYrbjh5CnfMG7z5r96E',\n",
       " '3n8qeKQViV1waeCzZmS4Tx',\n",
       " '3uwAm6vQy7kWPS2bciKWx9',\n",
       " '2KEqzdPS7M5YwGmiuPTdr5',\n",
       " '7Hvq85OU8T7Hsd63zNBwaL',\n",
       " '5DZBnxCYzs32O2bbqK8KNg',\n",
       " '4skJp5OKvcc9eKokiuhi2s',\n",
       " '0mk9dVJMJF4fanFzeZo6K1',\n",
       " '0HutkALC7kq2L8b9bnZUkq',\n",
       " '35C0NSLogAwImm8HAMqEmG',\n",
       " '4V5obzWMr7BHZrjOiQwB4K',\n",
       " '6gyhsZUy2fzzWZBRVPmOw4',\n",
       " '0VeQgI9lzgoOMszAOq0iml',\n",
       " '1d3CepUS2V6F3cP9YWNfUO',\n",
       " '3Q2RrKEOBdkWI2MJQgdt84',\n",
       " '41BaIYCli96MF2wqqOutBR',\n",
       " '1IMX8AG0s31WtvCLk4QEWJ',\n",
       " '4jRLhvF4a3NHs5TaR1lU3m',\n",
       " '3UBeV2UkTunts46Pok3zQu',\n",
       " '5b4g39OmFtyQcwYLSHCvsC',\n",
       " '0zo109NM3S7CqHpvlXwqEN ',\n",
       " '1FVo44KTXqxo3JxXADWTd9',\n",
       " '0XfQBWgzisaS9ltDV9bXAS',\n",
       " '2LMaARRMktW5O2umBFaQUu',\n",
       " '6CV2CoWJJQafHkNVOJjqFO',\n",
       " '1cUt6hBRKlav4TIgjopnHC',\n",
       " '6fFcUOFcbjeIuEomuUthkw',\n",
       " '1juz0H48u94THg3gHf0rGE',\n",
       " '3sXErEOw7EmO6Sj7EgjHdU',\n",
       " '2gyv1akuIB9fQvXoGSPaJr',\n",
       " '3M3wTTCDwicRubwMyHyEDy',\n",
       " 'BORRAR',\n",
       " '4Uhgu5miW68A3eqRl26xtf',\n",
       " '7HbRQEEsvAKurr1v8YjwzZ',\n",
       " '3HKbW1X4Aj2RZU6ruh3a0e',\n",
       " '1WLEfsQjvgtFSGkrHonzFX',\n",
       " '3vbKDsSS70ZX9D2OcvbZmS',\n",
       " '0epOFNiUfyON9EYx7Tpr6V',\n",
       " '4aEnNH9PuU1HF3TsZTru54',\n",
       " '4ZG4S6skttdVhHz08AjMhR',\n",
       " '23NIwARd4vPbxt3wwNnJ6k',\n",
       " '2cCUtGK9sDU2EoElnk0GNB',\n",
       " '6eXZu6O7nAUA5z6vLV8NKI',\n",
       " '06knYh538h5SI7OAEF8ek3',\n",
       " '2vnB6tuQMaQpORiRdvXF9H',\n",
       " 'BORRAR',\n",
       " '2WOMBqEsllg2ICn7D2L8ta',\n",
       " '6XYvaoDGE0VmRt83Jss9Sn',\n",
       " '7rOlQwf8OuFLFQp4aydjBt',\n",
       " '7A0awCXkE1FtSU8B0qwOJQ',\n",
       " '40tHhop0T30DwienQBmTxb',\n",
       " '3Uqu1mEdkUJxPe7s31n1M9',\n",
       " '3AmgGrYHXqgbmZ2yKoIVzO',\n",
       " '0gvHPdYxlU94W7V5MSIlFe',\n",
       " '0wz0jO9anccPzH04N7FLBH',\n",
       " '1njdH9zjRnlM561mWqEocW',\n",
       " '5RMGElrEO6UepEfrrn0Qg4',\n",
       " '7HO5fOXE4gh3lzZn64tX2E',\n",
       " '69qhRLDvsWJOhWGXXQ0lQQ',\n",
       " '3SXwqSqAoBz9WCI9PDQzY6',\n",
       " '3A5tHz1SfngyOZM2gItYKu',\n",
       " '7zpN81tVvPwlHcJSkSCyRa',\n",
       " '44Wn7ZjTg4vIBEg22A6AMZ',\n",
       " '4Mbv7MoBUcLBWCuGBCxRf1',\n",
       " '7fWD0BSDlixbj6YNQyHTLh',\n",
       " '2og3FOCLYXT9H7IYE6QPUq',\n",
       " '0mL6LBSQ4bHe6hWq90KzHL',\n",
       " '2TwOrUcYnAlIiKmVQkkoSZ',\n",
       " '4nXXIxTneJksvGXrlmX8oA',\n",
       " '69YKwunlA0xl2yMS12cyMu',\n",
       " '5id3QE9SvJCxWwHVa0zRcD',\n",
       " '6WH1V41LwGDGmlPUhSZLHO',\n",
       " '3jisZjR3TBVb9tIfTbRHTS',\n",
       " '7mKwhB3UiepqzM946jBOyi',\n",
       " '4XbQUkFYWthjpAPp96lHWt',\n",
       " '20fUkJZtm2I6zdIuj2XpgV',\n",
       " '04KmByEP6icXVY0PvJaMMp',\n",
       " '6tzRZ39aZlNqlUzQlkuhDV',\n",
       " '2eIDAcLKnWc4D350YyzvgS',\n",
       " '4ha1AL8HqVr6WY9vSOow0n',\n",
       " '05zSozHG9kAvZTCmEo1fFT',\n",
       " '6JACkt5SfzTM7JmtvBEmIk',\n",
       " '4Ii6N7zTISiFbVsUPPD0sE',\n",
       " '75BN2bMrpeLl89blBiaFuv',\n",
       " '1HkrZCBvUvk1nvBpR3uki3',\n",
       " '3BKX2WA8UjZgTIJ2juyQ7G',\n",
       " '4I8qgsaz4mQa9ICeCPibIF',\n",
       " '4AXLKUKQYoQHLw8Kb4WHd3',\n",
       " '64kN9EkSTHYhda2FupL0KI',\n",
       " '3qEnCAnX23lvoxZYtBiPgL',\n",
       " '1bAftSH8umNcGZ0uyV7LMg',\n",
       " '1CoZyIx7UvdxT5c8UkMzHd',\n",
       " '4V8LLVI7PbaPR0K2TGSxFF',\n",
       " '7h0Xj4rDQMndEq2JsZZVzM',\n",
       " '0cTSCsVx04SSht9V6cpKN0',\n",
       " '3AA28KZvwAUcZuOKwyblJQ',\n",
       " '4UXJsSlnKd7ltsrHebV79Q',\n",
       " '5eerVxtb9lY9p6D7m89Bs7',\n",
       " '4vAQ4M7vgItwBtmBTgRu48',\n",
       " '7KomCxZv6D5qCVvefwMnwB',\n",
       " '5N5tQ9Dx1h8Od7aRmGj7Fi',\n",
       " '56ZTgzPBDge0OvCGgMO3OY',\n",
       " '3r1XkJ7vCs8kHBSzGvPLdP',\n",
       " '6nS5roXSAGhTGr34W6n7Et',\n",
       " '6dHMq5KZ8ScqdzsCKGagdo',\n",
       " '4UodukR17NIQfNu5uaqm9B',\n",
       " '5V1qsQHdXNm4ZEZHWvFnqQ',\n",
       " '75mafsNqNE1WSEVxIKuY5C',\n",
       " '4wyNyxs74Ux8UIDopNjIai',\n",
       " '3uX1tstdmFJyxW9b5mSNlU',\n",
       " '1goerABWhGQPWKhMCZeJ68',\n",
       " '4IeWU3NYBI9mISFVhzXG8f',\n",
       " '0Fj0cWPHOpexJCZRdSHioP',\n",
       " '4OrizGCKhOrW6iDDJHN9xd',\n",
       " '4Ge8xMJNwt6EEXOzVXju9a',\n",
       " '2o7L9DNcmzocYll1o0GGTU',\n",
       " '42JGb29XOsilEvx2TVQH5H',\n",
       " '4vAuh0ifJRTcAxGeGNULIb',\n",
       " '71LogL8lYEei6YssB4RyVD',\n",
       " '6NL31G53xThQXkFs7lDpL5',\n",
       " '3MNvKeLzGSvOPtXJAjCOzf',\n",
       " '1epGwdbjU7JSGVBHlqptpx',\n",
       " '3UqRgrDIQ208yNGiWKRMNt',\n",
       " '2A0pTCoXdqG0VjhMWLArMr',\n",
       " '3PP6ghmOlDl2jaKaH0avUN',\n",
       " '70GBRlKEGjfueop2lfdQ4Q',\n",
       " ' 5n30EjOcjTVG11vtfNKbsd',\n",
       " '5As9k4aeJ897xlMRrFp8mE',\n",
       " '11zGi8URbhNbTEtauBUnme',\n",
       " 'DAVE P BORRAR',\n",
       " '7sdETEHtFrBJARdIVvf8Mv',\n",
       " 'BEN UFO BORRAR',\n",
       " '4LSAINMy65w69vnT4xUq1b',\n",
       " '4mtHSXwIHihO6MWNq5Qoko',\n",
       " '0YmokPIhVketCTSXBRp20R',\n",
       " '2YTyoyU90b3CF5x91YjVaQ',\n",
       " '4iom7VVRU6AHRIu1JUXpLG',\n",
       " '78x5Xzi7CUmQZtZfFYBK9m',\n",
       " 'NORISCAA BORRAR',\n",
       " '4ha1AL8HqVr6WY9vSOow0n',\n",
       " '5QdyldG4Fl4TPiOIeMNpBZ',\n",
       " '4F4pp8NUW08JuXwnoxglpN',\n",
       " '25uiPmTg16RbhZWAqwLBy5',\n",
       " '4V8LLVI7PbaPR0K2TGSxFF',\n",
       " '7KjdFWj7ujhSLbzWYAAgVe',\n",
       " '3WaJSfKnzc65VDgmj2zU8B',\n",
       " '3AA28KZvwAUcZuOKwyblJQ',\n",
       " '6M2wZ9GZgrQXHCFfjv46we',\n",
       " '0nnYdIpahs41QiZ9MWp5Wx',\n",
       " '48dgx7iGqLQ3E5KO3pzd94',\n",
       " '54QMjE4toDfiCryzYWCpXX',\n",
       " '5rLsN2LxYaEPLa1N7I2mPB',\n",
       " '6XYvaoDGE0VmRt83Jss9Sn',\n",
       " '73A3bLnfnz5BoQjb4gNCga',\n",
       " '6w3SkAHYPsQ1bxV7VDlG5y',\n",
       " '7xBGi7Eign0fX7jGQj5KlJ',\n",
       " '0WPY9nnBy01s5QOt4o4oQX',\n",
       " '72X6FHxaShda0XeQw3vbeF',\n",
       " '2mVVjNmdjXZZDvhgQWiakk',\n",
       " '7DlD7rLG9MKuvXtTeACzkO',\n",
       " '6kGMx9MqwnbKR2EYvZvvrG',\n",
       " '685XjGzGztyivfR3fAjoxo',\n",
       " '3NqV2DJoAWsjl787bWaHW7',\n",
       " '3PyJHH2wyfQK3WZrk9rpmP',\n",
       " '699OTQXzgjhIYAHMy9RyPD',\n",
       " '0TkqXdyWLsssJH7okthMPQ',\n",
       " '730AxBRvtXF3V72fwbqf1R',\n",
       " '44pUNjqg4mExLyFHnB3Bqf',\n",
       " '7cCi9XoRu8Y1SyJ9c94fhc',\n",
       " '1eiIIImNeUj3vpaocWqoOf',\n",
       " '5RJFJWYgtgWktosLrUDzff',\n",
       " '335TWGWGFan4vaacJzSiU8',\n",
       " '5vnfKgHNYLnKeuFA6c2jJO',\n",
       " '40sPlPGgON8MBAiW4CIFTP',\n",
       " '11dABkjSoOjcP9p3TFSNRj',\n",
       " '1fIzM2bmsXG77E5EMPtdKW',\n",
       " '1Ysz8yMgr4g1Ol3l1m3yOt',\n",
       " '0zo109NM3S7CqHpvlXwqEN',\n",
       " '7wXTWO45lqpUejDkike0Gf',\n",
       " '6aDX1jzNVAI9enlQzW0Pgw',\n",
       " '6jlSEjqfJnED7otnU0lRoy',\n",
       " '1vlBj1Zv2y6dCNdGeIBsNo',\n",
       " '1YvN5uOGQkHVUUlZUcnotD',\n",
       " '0NwRAG9DawUqqgur9925fA',\n",
       " '0pkLgeB9j465x1QB2kRoy4',\n",
       " '6HabM2PUM519iIxervGWSb',\n",
       " '7yF6JnFPDzgml2Ytkyl5D7',\n",
       " '0NwRAG9DawUqqgur9925fA',\n",
       " '5RMLpCv3ic2KtGnqJ7eMG4',\n",
       " '4z8y2MjTFwLa73dABYP1io',\n",
       " '4fH73bVIwM24QrBqjTrhAA',\n",
       " '3l0CmX0FuQjFxr8SK7Vqag',\n",
       " '0QJIPDAEDILuo8AIq3pMuU',\n",
       " '0epOFNiUfyON9EYx7Tpr6V',\n",
       " '163tK9Wjr9P9DmM0AVK7lm',\n",
       " '1bTVf9uk7d4iU9rcWfWj5S',\n",
       " '2eam0iDomRHGBypaDQLwWI',\n",
       " '6styCzc1Ej4NxISL0LiigM',\n",
       " '4RnBFZRiMLRyZy0AzzTg2C',\n",
       " '1nIJEqPyIj5qutlgWNmQB0',\n",
       " '0NB5HROxc8dDBXpkIi1v3d',\n",
       " '78rUTD7y6Cy67W1RVzYs7t',\n",
       " '4OOlG5eBXSkSAAEeKjJb5Y',\n",
       " '4XquDVA8pkg5Lx91No1JxB',\n",
       " '3wcj11K77LjEY1PkEazffa',\n",
       " '1PNvaesh1mkKZucGhBuqgD',\n",
       " '07KQg01nfkJUG5zgSKuJYK',\n",
       " '7MoIc5s9KXolCBH1fy9kkw',\n",
       " '4fxd5Ee7UefO4CUXgwJ7IP',\n",
       " '4m6ubhNsdwF4psNf3R8kwR',\n",
       " '4rjlerN21ygkIhmUv55irs ',\n",
       " '1WZarnZpWEv7dDtjAETt4X',\n",
       " '202HZzqKvPsMHcbwnDZx7u',\n",
       " '18M7pJRsgFVjEBZ5ufmJAp',\n",
       " '3luonLzvSOxdU8ytCaEIK8',\n",
       " '7fw0E8WHdG3r9SuPBcGmWk',\n",
       " '290nCNEce1y6rfoJiO2rK7',\n",
       " '053q0ukIDRgzwTr4vNSwab',\n",
       " '0tjJosKJDhjhGh2P8NtiK3',\n",
       " 'STEIN BORRAR',\n",
       " '6LlGOJmoJ97bhGx3UX2URn',\n",
       " '6A6B4fkbxVlQtNASPk5e2e',\n",
       " '2SdK1QDmZIP2hk94rSaLl9',\n",
       " '6iZTyHbQWGzpiWoyI0zz9F',\n",
       " '6iWuBN32BqCJAeXW6o3nil',\n",
       " ' 7qMC73hJTezS5KODuYn8ta',\n",
       " '5MJEbh71qd0GTKQdKko3TT',\n",
       " '3VBNIRx1LxVdRqOiPgkLwv',\n",
       " '7DOERbtkx9aTLvWzZSB0qx',\n",
       " '2DqPerh6whhlts8Pb0BUJi',\n",
       " '6hjRjVNLWTCPYci9nxhI1G',\n",
       " '08Z0yhWGksNk3wceqlCeGE',\n",
       " '4UUWo1AiaKMCi76yo69O1U',\n",
       " 'BORRAR MARY ANNE HOBBS',\n",
       " '6wMr4zKPrrR0UVz08WtUWc',\n",
       " '5SRr4ZJMoygWecytkIwlaV',\n",
       " '2CYTLJOt91YLe1JLStFu6m',\n",
       " '23herDudxPBB3S81GB5uG3',\n",
       " '3L3ejltt5dmjXkES4YSGKX',\n",
       " 'BORRAR SPFDJ',\n",
       " '1U9VJ1tPataidARB8IBkAk',\n",
       " '7ug2B8FOnKHqwtVlD9vrQX',\n",
       " '5E3H2KyR31E2Dj3K6vIUe9',\n",
       " '0F0QctWhGzgl1Ih560JzWJ',\n",
       " '52qyXsgOeHZZxHRRxyO8xm',\n",
       " '0OltT51j3hIkgaDJqqPzDn',\n",
       " '3QVolfxko2UyCOtexhVTli',\n",
       " '5Mq7iqCWBzofK39FBqblNc',\n",
       " '1CoZyIx7UvdxT5c8UkMzHd',\n",
       " '181bsRPaVXVlUKXrxwZfHK',\n",
       " '29eGrPvxOuFDGOyOUi3RLq',\n",
       " '3TNt4aUIxgfy9aoaft5Jj2',\n",
       " '1xU878Z1QtBldR7ru9owdU',\n",
       " '5INjqkS1o8h1imAzPqGZBb',\n",
       " '49HlOY4gkHqsYG9GCuhkcc',\n",
       " '1nRVWZrJJCFAfkRWtFFPj4',\n",
       " 'BORRAR SHELLAC',\n",
       " '0EFisYRi20PTADoJrifHrz',\n",
       " '2UZIAOlrnyZmyzt1nuXr9y',\n",
       " 'BORRAR DJ Coco',\n",
       " '37YzpfBeFju8QRZ3g0Ha1Q',\n",
       " '5X5UPn6eVnwfYcujIQpcfu',\n",
       " '5lWasZeo8uWQk6GD8czJLq',\n",
       " '503mwh1GWEiWy9bzzpiTFW',\n",
       " '34UhPkLbtFKRq3nmfFgejG',\n",
       " '0GM7qgcRCORpGnfcN2tCiB',\n",
       " '39ZEMGRv3pIYTYKEhr4Abu',\n",
       " '1HvH97rzvCH6lfnLlgyfke',\n",
       " '2nAKP6etu8wXNnezKXgqgg',\n",
       " '37PL04N8kBWWW69jdrMMWT',\n",
       " '65mMkD9WW39U9Yadv0dWUF',\n",
       " '7pyhre5oEEFMqcgMEvJY7q',\n",
       " '4oLeXFyACqeem2VImYeBFe',\n",
       " '5asecBdhCgsGfPIsAoNs1R',\n",
       " '3rD7bBI9zkYhu62o79tWe6',\n",
       " '4skJp5OKvcc9eKokiuhi2s',\n",
       " '3XFQRe2FsSOjrODygK4caW',\n",
       " '3C1CPJ9K2aeHuj1x22B0qJ',\n",
       " '1nVq0hKIVReeaiB3xJgKf0',\n",
       " '1jB62pOe5WpGiHOBDtKBBG',\n",
       " '7h8V7XHdJ3akShW3uFaZyn',\n",
       " '59lypjMPo7ZILhNMCgaE19',\n",
       " '00JAfwtx5gNiiqyor88Dr5',\n",
       " '61WgG5fz5ilJrMne7tE1zu',\n",
       " '4rdJkXHNrMgowlwUdQAg8T',\n",
       " '2EFsfh1zewsSWhDINv7j1I',\n",
       " '2TFDQkQ7LahhuwL9p7R6MO',\n",
       " '3X2DdnmoANw8Rg8luHyZQb',\n",
       " '1EULJuDFWpZ9xg4YwtUGGt',\n",
       " '5igyz9vWH6ban6NMfKeCir',\n",
       " '2XtrsBob50yrdPKaWPJI9E',\n",
       " '6ydvoGN30eRfE78bjTANF7',\n",
       " '5T68nryXXOMNE2kVe61fKX',\n",
       " '6EVc5gJQXiUl586m1NFCNH',\n",
       " '6GP540ZTiOPTz8uI76k43u',\n",
       " '0osYTSrOpW6YESEC1lClwN',\n",
       " '5igyz9vWH6ban6NMfKeCir',\n",
       " '2SYqJ3uDLLXZNyZdLKBy4M']"
      ]
     },
     "execution_count": 45,
     "metadata": {},
     "output_type": "execute_result"
    }
   ],
   "source": [
    "x_0_9"
   ]
  },
  {
   "cell_type": "code",
   "execution_count": 46,
   "metadata": {},
   "outputs": [],
   "source": [
    "all_ids = x_0_9"
   ]
  },
  {
   "cell_type": "code",
   "execution_count": 47,
   "metadata": {},
   "outputs": [],
   "source": [
    "### Some artist don't have Spotify account (mostly djs). Remove them"
   ]
  },
  {
   "cell_type": "code",
   "execution_count": 48,
   "metadata": {},
   "outputs": [
    {
     "data": {
      "text/plain": [
       "319"
      ]
     },
     "execution_count": 48,
     "metadata": {},
     "output_type": "execute_result"
    }
   ],
   "source": [
    "len(all_ids)"
   ]
  },
  {
   "cell_type": "markdown",
   "metadata": {},
   "source": [
    "### New column with ID of each artist"
   ]
  },
  {
   "cell_type": "code",
   "execution_count": 49,
   "metadata": {},
   "outputs": [
    {
     "ename": "ValueError",
     "evalue": "Length of values (319) does not match length of index (318)",
     "output_type": "error",
     "traceback": [
      "\u001b[0;31m---------------------------------------------------------------------------\u001b[0m",
      "\u001b[0;31mValueError\u001b[0m                                Traceback (most recent call last)",
      "\u001b[0;32m<ipython-input-49-61a07f3ca61a>\u001b[0m in \u001b[0;36m<module>\u001b[0;34m\u001b[0m\n\u001b[1;32m      1\u001b[0m \u001b[0mpd\u001b[0m\u001b[0;34m.\u001b[0m\u001b[0mset_option\u001b[0m\u001b[0;34m(\u001b[0m\u001b[0;34m'display.max_rows'\u001b[0m\u001b[0;34m,\u001b[0m \u001b[0;36m319\u001b[0m\u001b[0;34m)\u001b[0m\u001b[0;34m\u001b[0m\u001b[0;34m\u001b[0m\u001b[0m\n\u001b[0;32m----> 2\u001b[0;31m \u001b[0mline_up_clean\u001b[0m\u001b[0;34m[\u001b[0m\u001b[0;34m'id'\u001b[0m\u001b[0;34m]\u001b[0m \u001b[0;34m=\u001b[0m \u001b[0mall_ids\u001b[0m\u001b[0;34m\u001b[0m\u001b[0;34m\u001b[0m\u001b[0m\n\u001b[0m\u001b[1;32m      3\u001b[0m \u001b[0mline_up_clean\u001b[0m\u001b[0;34m\u001b[0m\u001b[0;34m\u001b[0m\u001b[0m\n",
      "\u001b[0;32m~/anaconda3/lib/python3.8/site-packages/pandas/core/frame.py\u001b[0m in \u001b[0;36m__setitem__\u001b[0;34m(self, key, value)\u001b[0m\n\u001b[1;32m   3038\u001b[0m         \u001b[0;32melse\u001b[0m\u001b[0;34m:\u001b[0m\u001b[0;34m\u001b[0m\u001b[0;34m\u001b[0m\u001b[0m\n\u001b[1;32m   3039\u001b[0m             \u001b[0;31m# set column\u001b[0m\u001b[0;34m\u001b[0m\u001b[0;34m\u001b[0m\u001b[0;34m\u001b[0m\u001b[0m\n\u001b[0;32m-> 3040\u001b[0;31m             \u001b[0mself\u001b[0m\u001b[0;34m.\u001b[0m\u001b[0m_set_item\u001b[0m\u001b[0;34m(\u001b[0m\u001b[0mkey\u001b[0m\u001b[0;34m,\u001b[0m \u001b[0mvalue\u001b[0m\u001b[0;34m)\u001b[0m\u001b[0;34m\u001b[0m\u001b[0;34m\u001b[0m\u001b[0m\n\u001b[0m\u001b[1;32m   3041\u001b[0m \u001b[0;34m\u001b[0m\u001b[0m\n\u001b[1;32m   3042\u001b[0m     \u001b[0;32mdef\u001b[0m \u001b[0m_setitem_slice\u001b[0m\u001b[0;34m(\u001b[0m\u001b[0mself\u001b[0m\u001b[0;34m,\u001b[0m \u001b[0mkey\u001b[0m\u001b[0;34m:\u001b[0m \u001b[0mslice\u001b[0m\u001b[0;34m,\u001b[0m \u001b[0mvalue\u001b[0m\u001b[0;34m)\u001b[0m\u001b[0;34m:\u001b[0m\u001b[0;34m\u001b[0m\u001b[0;34m\u001b[0m\u001b[0m\n",
      "\u001b[0;32m~/anaconda3/lib/python3.8/site-packages/pandas/core/frame.py\u001b[0m in \u001b[0;36m_set_item\u001b[0;34m(self, key, value)\u001b[0m\n\u001b[1;32m   3114\u001b[0m         \"\"\"\n\u001b[1;32m   3115\u001b[0m         \u001b[0mself\u001b[0m\u001b[0;34m.\u001b[0m\u001b[0m_ensure_valid_index\u001b[0m\u001b[0;34m(\u001b[0m\u001b[0mvalue\u001b[0m\u001b[0;34m)\u001b[0m\u001b[0;34m\u001b[0m\u001b[0;34m\u001b[0m\u001b[0m\n\u001b[0;32m-> 3116\u001b[0;31m         \u001b[0mvalue\u001b[0m \u001b[0;34m=\u001b[0m \u001b[0mself\u001b[0m\u001b[0;34m.\u001b[0m\u001b[0m_sanitize_column\u001b[0m\u001b[0;34m(\u001b[0m\u001b[0mkey\u001b[0m\u001b[0;34m,\u001b[0m \u001b[0mvalue\u001b[0m\u001b[0;34m)\u001b[0m\u001b[0;34m\u001b[0m\u001b[0;34m\u001b[0m\u001b[0m\n\u001b[0m\u001b[1;32m   3117\u001b[0m         \u001b[0mNDFrame\u001b[0m\u001b[0;34m.\u001b[0m\u001b[0m_set_item\u001b[0m\u001b[0;34m(\u001b[0m\u001b[0mself\u001b[0m\u001b[0;34m,\u001b[0m \u001b[0mkey\u001b[0m\u001b[0;34m,\u001b[0m \u001b[0mvalue\u001b[0m\u001b[0;34m)\u001b[0m\u001b[0;34m\u001b[0m\u001b[0;34m\u001b[0m\u001b[0m\n\u001b[1;32m   3118\u001b[0m \u001b[0;34m\u001b[0m\u001b[0m\n",
      "\u001b[0;32m~/anaconda3/lib/python3.8/site-packages/pandas/core/frame.py\u001b[0m in \u001b[0;36m_sanitize_column\u001b[0;34m(self, key, value, broadcast)\u001b[0m\n\u001b[1;32m   3762\u001b[0m \u001b[0;34m\u001b[0m\u001b[0m\n\u001b[1;32m   3763\u001b[0m             \u001b[0;31m# turn me into an ndarray\u001b[0m\u001b[0;34m\u001b[0m\u001b[0;34m\u001b[0m\u001b[0;34m\u001b[0m\u001b[0m\n\u001b[0;32m-> 3764\u001b[0;31m             \u001b[0mvalue\u001b[0m \u001b[0;34m=\u001b[0m \u001b[0msanitize_index\u001b[0m\u001b[0;34m(\u001b[0m\u001b[0mvalue\u001b[0m\u001b[0;34m,\u001b[0m \u001b[0mself\u001b[0m\u001b[0;34m.\u001b[0m\u001b[0mindex\u001b[0m\u001b[0;34m)\u001b[0m\u001b[0;34m\u001b[0m\u001b[0;34m\u001b[0m\u001b[0m\n\u001b[0m\u001b[1;32m   3765\u001b[0m             \u001b[0;32mif\u001b[0m \u001b[0;32mnot\u001b[0m \u001b[0misinstance\u001b[0m\u001b[0;34m(\u001b[0m\u001b[0mvalue\u001b[0m\u001b[0;34m,\u001b[0m \u001b[0;34m(\u001b[0m\u001b[0mnp\u001b[0m\u001b[0;34m.\u001b[0m\u001b[0mndarray\u001b[0m\u001b[0;34m,\u001b[0m \u001b[0mIndex\u001b[0m\u001b[0;34m)\u001b[0m\u001b[0;34m)\u001b[0m\u001b[0;34m:\u001b[0m\u001b[0;34m\u001b[0m\u001b[0;34m\u001b[0m\u001b[0m\n\u001b[1;32m   3766\u001b[0m                 \u001b[0;32mif\u001b[0m \u001b[0misinstance\u001b[0m\u001b[0;34m(\u001b[0m\u001b[0mvalue\u001b[0m\u001b[0;34m,\u001b[0m \u001b[0mlist\u001b[0m\u001b[0;34m)\u001b[0m \u001b[0;32mand\u001b[0m \u001b[0mlen\u001b[0m\u001b[0;34m(\u001b[0m\u001b[0mvalue\u001b[0m\u001b[0;34m)\u001b[0m \u001b[0;34m>\u001b[0m \u001b[0;36m0\u001b[0m\u001b[0;34m:\u001b[0m\u001b[0;34m\u001b[0m\u001b[0;34m\u001b[0m\u001b[0m\n",
      "\u001b[0;32m~/anaconda3/lib/python3.8/site-packages/pandas/core/internals/construction.py\u001b[0m in \u001b[0;36msanitize_index\u001b[0;34m(data, index)\u001b[0m\n\u001b[1;32m    745\u001b[0m     \"\"\"\n\u001b[1;32m    746\u001b[0m     \u001b[0;32mif\u001b[0m \u001b[0mlen\u001b[0m\u001b[0;34m(\u001b[0m\u001b[0mdata\u001b[0m\u001b[0;34m)\u001b[0m \u001b[0;34m!=\u001b[0m \u001b[0mlen\u001b[0m\u001b[0;34m(\u001b[0m\u001b[0mindex\u001b[0m\u001b[0;34m)\u001b[0m\u001b[0;34m:\u001b[0m\u001b[0;34m\u001b[0m\u001b[0;34m\u001b[0m\u001b[0m\n\u001b[0;32m--> 747\u001b[0;31m         raise ValueError(\n\u001b[0m\u001b[1;32m    748\u001b[0m             \u001b[0;34m\"Length of values \"\u001b[0m\u001b[0;34m\u001b[0m\u001b[0;34m\u001b[0m\u001b[0m\n\u001b[1;32m    749\u001b[0m             \u001b[0;34mf\"({len(data)}) \"\u001b[0m\u001b[0;34m\u001b[0m\u001b[0;34m\u001b[0m\u001b[0m\n",
      "\u001b[0;31mValueError\u001b[0m: Length of values (319) does not match length of index (318)"
     ]
    }
   ],
   "source": [
    "pd.set_option('display.max_rows', 319) \n",
    "line_up_clean['id'] = all_ids\n",
    "line_up_clean"
   ]
  },
  {
   "cell_type": "code",
   "execution_count": null,
   "metadata": {},
   "outputs": [],
   "source": [
    "line_up_clean[line_up_clean['id'] == '2SYqJ3uDLLXZNyZdLKBy4M']"
   ]
  },
  {
   "cell_type": "code",
   "execution_count": null,
   "metadata": {},
   "outputs": [],
   "source": [
    "line_up_clean.iloc[52][0]"
   ]
  },
  {
   "cell_type": "markdown",
   "metadata": {},
   "source": [
    "### Some artist don't have Spotify account (mostly djs). Remove them"
   ]
  },
  {
   "cell_type": "code",
   "execution_count": null,
   "metadata": {},
   "outputs": [],
   "source": [
    "line_up_clean = line_up_clean[line_up_clean['Artist'] != 'MYD  Band'] \n",
    "len(line_up_clean)"
   ]
  },
  {
   "cell_type": "code",
   "execution_count": null,
   "metadata": {},
   "outputs": [],
   "source": [
    "line_up_clean = line_up_clean[line_up_clean['Artist'] != 'Shellac']  #2 TIMES ON LINEUP\n",
    "len(line_up_clean)"
   ]
  },
  {
   "cell_type": "code",
   "execution_count": null,
   "metadata": {},
   "outputs": [],
   "source": [
    "line_up_clean = line_up_clean[line_up_clean['Artist'] != 'Dave P']\n",
    "len(line_up_clean)"
   ]
  },
  {
   "cell_type": "code",
   "execution_count": null,
   "metadata": {},
   "outputs": [],
   "source": [
    "line_up_clean = line_up_clean[line_up_clean['Artist'] != 'Ben UFO']\n",
    "len(line_up_clean)"
   ]
  },
  {
   "cell_type": "code",
   "execution_count": null,
   "metadata": {},
   "outputs": [],
   "source": [
    "line_up_clean = line_up_clean[line_up_clean['Artist'] != 'Noriscaa']\n",
    "len(line_up_clean)"
   ]
  },
  {
   "cell_type": "code",
   "execution_count": null,
   "metadata": {},
   "outputs": [],
   "source": [
    "line_up_clean = line_up_clean[line_up_clean['Artist'] != 'Stein']\n",
    "len(line_up_clean)"
   ]
  },
  {
   "cell_type": "code",
   "execution_count": null,
   "metadata": {},
   "outputs": [],
   "source": [
    "line_up_clean = line_up_clean[line_up_clean['Artist'] != 'SPFDJ']\n",
    "len(line_up_clean)"
   ]
  },
  {
   "cell_type": "code",
   "execution_count": null,
   "metadata": {},
   "outputs": [],
   "source": [
    "line_up_clean = line_up_clean[line_up_clean['Artist'] != 'DJ Coco']\n",
    "len(line_up_clean)"
   ]
  },
  {
   "cell_type": "code",
   "execution_count": null,
   "metadata": {},
   "outputs": [],
   "source": [
    "line_up_clean = line_up_clean[line_up_clean['Artist'] != 'VTSS ']\n",
    "len(line_up_clean)"
   ]
  },
  {
   "cell_type": "code",
   "execution_count": null,
   "metadata": {},
   "outputs": [],
   "source": [
    "line_up_clean = line_up_clean[line_up_clean['Artist'] != 'Mary Anne Hobbs']\n",
    "len(line_up_clean)"
   ]
  },
  {
   "cell_type": "code",
   "execution_count": null,
   "metadata": {},
   "outputs": [],
   "source": [
    "line_up_clean"
   ]
  },
  {
   "cell_type": "code",
   "execution_count": null,
   "metadata": {},
   "outputs": [],
   "source": [
    "line_up_clean.iloc[15]"
   ]
  },
  {
   "cell_type": "code",
   "execution_count": null,
   "metadata": {},
   "outputs": [],
   "source": [
    "line_up_clean[\"id\"].replace({\"0LyfQWJT6nXafLPZqxe9Of\": \"2BVE7Pqd8kxv9xEsuvoJoE\"}, inplace=True)"
   ]
  },
  {
   "cell_type": "code",
   "execution_count": null,
   "metadata": {},
   "outputs": [],
   "source": [
    "line_up_clean.to_csv('line_up_clean_id.csv',index= False)"
   ]
  }
 ],
 "metadata": {
  "kernelspec": {
   "display_name": "Python 3",
   "language": "python",
   "name": "python3"
  },
  "language_info": {
   "codemirror_mode": {
    "name": "ipython",
    "version": 3
   },
   "file_extension": ".py",
   "mimetype": "text/x-python",
   "name": "python",
   "nbconvert_exporter": "python",
   "pygments_lexer": "ipython3",
   "version": "3.8.5"
  },
  "toc": {
   "base_numbering": 1,
   "nav_menu": {},
   "number_sections": true,
   "sideBar": true,
   "skip_h1_title": false,
   "title_cell": "Table of Contents",
   "title_sidebar": "Contents",
   "toc_cell": false,
   "toc_position": {},
   "toc_section_display": true,
   "toc_window_display": false
  }
 },
 "nbformat": 4,
 "nbformat_minor": 4
}
